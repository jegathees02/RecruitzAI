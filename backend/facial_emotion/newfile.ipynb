{
 "cells": [
  {
   "cell_type": "code",
   "execution_count": 13,
   "metadata": {},
   "outputs": [],
   "source": [
    "import cv2\n",
    "import numpy as np\n",
    "from keras.models import load_model\n"
   ]
  },
  {
   "cell_type": "code",
   "execution_count": 14,
   "metadata": {},
   "outputs": [],
   "source": [
    "loaded_model = load_model('imageclassifier.h5')"
   ]
  },
  {
   "cell_type": "code",
   "execution_count": 34,
   "metadata": {},
   "outputs": [
    {
     "name": "stdout",
     "output_type": "stream",
     "text": [
      "1/1 [==============================] - 0s 14ms/step\n",
      "Happiness Percentage: 47.94%\n",
      "Sadness Percentage: 52.06%\n"
     ]
    }
   ],
   "source": [
    "cap = cv2.VideoCapture(0)\n",
    "\n",
    "# Check if the camera is opened successfully\n",
    "if not cap.isOpened():\n",
    "    print(\"Error: Could not open camera.\")\n",
    "    exit()\n",
    "\n",
    "# Capture a single frame\n",
    "ret, frame = cap.read()\n",
    "\n",
    "# Check if the frame was captured successfully\n",
    "if not ret:\n",
    "    print(\"Error: Could not read frame.\")\n",
    "    cap.release()\n",
    "    exit()\n",
    "\n",
    "# Check if the frame is too dark or empty\n",
    "if np.mean(frame) < 10:\n",
    "    happiness_percentage = 1\n",
    "    sadness_percentage = 99\n",
    "else:\n",
    "    # Resize the frame to match the input size of your model\n",
    "    resized_frame = cv2.resize(frame, (256, 256))\n",
    "\n",
    "    # Normalize pixel values\n",
    "    resized_frame = resized_frame.astype('float32') / 255.0\n",
    "\n",
    "    # Expand dimensions to create a batch (assuming the model expects a batch input)\n",
    "    input_image = np.expand_dims(resized_frame, axis=0)\n",
    "\n",
    "    # Make predictions\n",
    "    predictions = loaded_model.predict(input_image)\n",
    "\n",
    "    # Interpret the predictions\n",
    "    happiness_percentage = predictions[0][0] * 100\n",
    "    sadness_percentage = (1 - predictions[0][0]) * 100\n",
    "\n",
    "print(f'Happiness Percentage: {happiness_percentage:.2f}%')\n",
    "print(f'Sadness Percentage: {sadness_percentage:.2f}%')\n",
    "\n",
    "# Release the camera\n",
    "cap.release()"
   ]
  },
  {
   "cell_type": "code",
   "execution_count": 16,
   "metadata": {},
   "outputs": [],
   "source": [
    "new_image = cv2.imread('./test_2.jpg')  # Replace with the actual path\n",
    "# Resize the image to match the input size of your model\n",
    "new_image = cv2.resize(new_image, (256, 256))\n",
    "\n",
    "# Normalize pixel values\n",
    "new_image = new_image.astype('float32') / 255.0\n",
    "\n",
    "# Expand dimensions to create a batch (assuming the model expects a batch input)\n",
    "new_image = np.expand_dims(new_image, axis=0)"
   ]
  },
  {
   "cell_type": "code",
   "execution_count": 17,
   "metadata": {},
   "outputs": [
    {
     "name": "stdout",
     "output_type": "stream",
     "text": [
      "1/1 [==============================] - ETA: 0s"
     ]
    },
    {
     "name": "stdout",
     "output_type": "stream",
     "text": [
      "1/1 [==============================] - 0s 18ms/step\n",
      "Happiness Percentage: 0.94%\n",
      "Sadness Percentage: 0.06%\n"
     ]
    }
   ],
   "source": [
    "# predictions = loaded_model.predict(input_img)\n",
    "# print(predictions)\n",
    "\n",
    "# Make predictions\n",
    "predictions = loaded_model.predict(new_image)\n",
    "\n",
    "# Interpret the predictions\n",
    "happiness_percentage = predictions[0][0] \n",
    "sadness_percentage = (1 - predictions[0][0]) \n",
    "\n",
    "print(f'Happiness Percentage: {happiness_percentage:.2f}%')\n",
    "print(f'Sadness Percentage: {sadness_percentage:.2f}%')"
   ]
  },
  {
   "cell_type": "code",
   "execution_count": 18,
   "metadata": {},
   "outputs": [],
   "source": [
    "# cap = cv2.VideoCapture(0)\n",
    "\n",
    "# # Check if the camera is opened successfully\n",
    "# if not cap.isOpened():\n",
    "#     print(\"Error: Could not open camera.\")\n",
    "#     exit()\n",
    "\n",
    "# while True:\n",
    "#     # Capture a single frame\n",
    "#     ret, frame = cap.read()\n",
    "\n",
    "#     # Check if the frame was captured successfully\n",
    "#     if not ret:\n",
    "#         print(\"Error: Could not capture frame.\")\n",
    "#         break\n",
    "\n",
    "#     # Resize the frame to match the model's input dimensions\n",
    "#     input_img = cv2.resize(frame, (64, 64))\n",
    "#     input_img = input_img / 255.0  # Normalize the image if needed\n",
    "#     input_img = np.expand_dims(input_img, axis=0)  # Expand dimensions to match the input shape expected by the model\n",
    "\n",
    "#     # Make predictions using the loaded model\n",
    "#     predictions = loaded_model.predict(input_img)\n",
    "#     print(predictions)\n",
    "\n",
    "\n",
    "#     # Display the frame with prediction information\n",
    "#     # cv2.putText(frame, f\"Predicted Class: {predicted_class_label}\", (10, 30), cv2.FONT_HERSHEY_SIMPLEX, 1, (0, 255, 0), 2)\n",
    "#     cv2.imshow(\"Real-time Prediction\", frame)\n",
    "\n",
    "#     # Break the loop if the 'q' key is pressed\n",
    "#     if cv2.waitKey(1) & 0xFF == ord('q'):\n",
    "#         break\n",
    "\n",
    "# # Release the camera\n",
    "# cap.release()\n",
    "\n",
    "# # Close all OpenCV windows\n",
    "# cv2.destroyAllWindows()"
   ]
  },
  {
   "cell_type": "code",
   "execution_count": null,
   "metadata": {},
   "outputs": [],
   "source": []
  },
  {
   "cell_type": "code",
   "execution_count": null,
   "metadata": {},
   "outputs": [],
   "source": []
  }
 ],
 "metadata": {
  "kernelspec": {
   "display_name": "Python 3",
   "language": "python",
   "name": "python3"
  },
  "language_info": {
   "codemirror_mode": {
    "name": "ipython",
    "version": 3
   },
   "file_extension": ".py",
   "mimetype": "text/x-python",
   "name": "python",
   "nbconvert_exporter": "python",
   "pygments_lexer": "ipython3",
   "version": "3.10.12"
  }
 },
 "nbformat": 4,
 "nbformat_minor": 2
}
