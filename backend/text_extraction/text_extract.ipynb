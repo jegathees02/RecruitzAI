{
 "cells": [
  {
   "cell_type": "code",
   "execution_count": null,
   "metadata": {},
   "outputs": [],
   "source": [
    "# pip install PyPDF2"
   ]
  },
  {
   "cell_type": "code",
   "execution_count": 1,
   "metadata": {},
   "outputs": [
    {
     "name": "stdout",
     "output_type": "stream",
     "text": [
      "1\n",
      "Jegatheeeswaran T\n",
      "/gtbgithub.com/jegathees02 | linkedin.com/in/jegatheeswaran-t | jegatheesdpm@gmail.com | /ne+91-8526177442\n",
      "Objective\n",
      "A self-motivated, hard-working and positive student looking for internship opportunity. I seek to explore my career\n",
      "options in the IT sector with a bachelor’s degree in computer science to build my technical and project management\n",
      "skills.\n",
      "Education\n",
      "Sri Krishna College of Engineering and Technology Nov 2021 - May 2025\n",
      "Bachelors of Engineering in Computer Science and Engineering GPA: 8.05/10.0\n",
      "Veveaham Matric Higher Secondary School June 2019 - April 2021\n",
      "Higher Secondary - (Biology-Mathematics) Score: 95/100\n",
      "Projects\n",
      "Intelligent Recruitz System Sep 2023 - Present\n",
      "AI powered Interview Assessment Platform github.com/jegathees02/recruitz\n",
      "•An AI powered application guides candidates to attend interview.Implemented and learned the concepts of Large Lan-\n",
      "guage Models and Generative AI.Optimized the processing speed using Fast API.\n",
      "•Developed with MERN stack and Machine Learning.Experienced the use of Chakra UI and python libraries like Tensor-\n",
      "flow,numpy,etc.,. and concepts like Facial Recognition, Voice Recognition, NLP, CNN, GAN’s.\n",
      "News Aggregator Application Jun 2023 - Sep 2023\n",
      "Provide personalized news and article contents from API’s and RSS feeds using 15+ API’s. github.com/jegathees02/NewsApplication\n",
      "•Established connection between React and Springboot by axios using REST API with generation of authentication token\n",
      "and managed the states using redux.\n",
      "•Pioneered with React, SpringBoot, Mysql. Enacted the concepts of JWT, OAuth, Microservices, Redux, REST API.\n",
      "Agricol Jan 2023 - Present\n",
      "AI based Crop Recommendation and Information System github.com/jegathees02/agricoll\n",
      "•Recommends the list of crops based on soil types and other factors using Neural Networks and Random Forest algorithm\n",
      "with 90% accuracy.\n",
      "•Gained experience in ReactJs, Python and other python libraries like numpy,matplotlib,Sci-kit learn, etc.,.\n",
      "Other Projects\n",
      "•Hospital Management System :Designed using HTML, CSS and JavaScript. Learned about CSS properties.\n",
      "•Ticket Booking System for Events :A console application using Java. Employed Object-oriented concepts and design\n",
      "of UML Diagrams.\n",
      "Achievements\n",
      "SIH 2023 Winner at Smart India Hackathon-2023 2023\n",
      "LIVE THE CODE 2.0 Overall winner in 100 projects 2023\n",
      "THEERKATHON Runner-up among 100 teams 2023\n",
      "TRIDENT HACKS Regional Champions competing with 50+ teams 2023\n",
      "EUREKA- IIT BOMBAY Zonalist beating 200+ submissions 2022\n",
      "HACKERRANK 5 star in JAVA 2022\n",
      "LEETCODE Solved 200+ problems 2023\n",
      "CODECHEF Solved 140+ 2023\n",
      "LEETCODE Attended 15+ contests with 1300 contest rating 2023\n",
      "CODING NINJAS Better than 88% with 2158 contest rating 2023\n",
      "Technical Skills\n",
      "Programming languages: Java,C++, Python\n",
      "Web Technologies: HTML, CSS, JavaScript, ReactJs, Redux , NodeJs, ExpressJs, Bootstrap, Tailwind CSS\n",
      "ML/AI: Sci-kit learn, Numpy, Pandas, Matplotlib, Tensorflow, CNN, LLM, Generative AI\n",
      "Miscellaneous: MySQL, MongoDB, AWS, Git,WebSocket, SpringBoot, Microservices, JWT, OAuth, Agile\n",
      "Relevant Coursework\n",
      "Computer Science: Deep Learning, Data Structures and Algorithms, Databases, Operating Systems, Computer Networks\n",
      "Certifications\n",
      "Cloud Foundations AWS Academy 2023\n",
      "DBMS NPTEL 2022\n",
      "Python Programmer Certification Infosys Springboard 2023\n",
      "React Developer Certification Infosys Springboard 2023\n",
      "Java Certification LinkedIn Learning 2022\n"
     ]
    }
   ],
   "source": [
    "\n",
    "# importing required modules \n",
    "from PyPDF2 import PdfReader \n",
    "  \n",
    "# creating a pdf reader object \n",
    "reader = PdfReader('jegatheeswaran_resume.pdf') \n",
    "  \n",
    "# printing number of pages in pdf file \n",
    "print(len(reader.pages)) \n",
    "  \n",
    "# getting a specific page from the pdf file \n",
    "page = reader.pages[0] \n",
    "  \n",
    "# extracting text from page \n",
    "text = page.extract_text() \n",
    "print(text) "
   ]
  },
  {
   "cell_type": "code",
   "execution_count": null,
   "metadata": {},
   "outputs": [],
   "source": []
  },
  {
   "cell_type": "code",
   "execution_count": null,
   "metadata": {},
   "outputs": [],
   "source": []
  },
  {
   "cell_type": "code",
   "execution_count": null,
   "metadata": {},
   "outputs": [],
   "source": []
  }
 ],
 "metadata": {
  "kernelspec": {
   "display_name": "Python 3",
   "language": "python",
   "name": "python3"
  },
  "language_info": {
   "codemirror_mode": {
    "name": "ipython",
    "version": 3
   },
   "file_extension": ".py",
   "mimetype": "text/x-python",
   "name": "python",
   "nbconvert_exporter": "python",
   "pygments_lexer": "ipython3",
   "version": "3.10.12"
  }
 },
 "nbformat": 4,
 "nbformat_minor": 2
}
